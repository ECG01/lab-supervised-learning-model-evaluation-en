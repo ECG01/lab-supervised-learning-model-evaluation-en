{
 "cells": [
  {
   "cell_type": "markdown",
   "metadata": {},
   "source": [
    "# Supervised Learning Model Evaluation Lab\n",
    "\n",
    "Complete the exercises below to solidify your knowledge and understanding of supervised learning model evaluation."
   ]
  },
  {
   "cell_type": "code",
   "execution_count": 1,
   "metadata": {},
   "outputs": [],
   "source": [
    "import pandas as pd\n",
    "import warnings\n",
    "warnings.filterwarnings('ignore')"
   ]
  },
  {
   "cell_type": "markdown",
   "metadata": {},
   "source": [
    "## Regression Model Evaluation"
   ]
  },
  {
   "cell_type": "code",
   "execution_count": 2,
   "metadata": {},
   "outputs": [],
   "source": [
    "column_names = ['CRIM', 'ZN', 'INDUS', 'CHAS', 'NOX', 'RM', 'AGE', 'DIS', 'RAD', 'TAX', 'PTRATIO', 'B', 'LSTAT', 'MEDV']\n",
    "data = pd.read_csv('housing.csv', header=None, delimiter=r\"\\s+\", names=column_names)"
   ]
  },
  {
   "cell_type": "code",
   "execution_count": 3,
   "metadata": {},
   "outputs": [
    {
     "data": {
      "text/plain": [
       "\"\\nCRIM - per capita crime rate by town\\nZN - proportion of residential land zoned for lots over 25,000 sq.ft.\\nINDUS - proportion of non-retail business acres per town.\\nCHAS - Charles River dummy variable (1 if tract bounds river; 0 otherwise)\\nNOX - nitric oxides concentration (parts per 10 million)\\nRM - average number of rooms per dwelling\\nAGE - proportion of owner-occupied units built prior to 1940\\nDIS - weighted distances to five Boston employment centres\\nRAD - index of accessibility to radial highways\\nTAX - full-value property-tax rate per $10,000\\nPTRATIO - pupil-teacher ratio by town\\nB - 1000(Bk - 0.63)^2 where Bk is the proportion of blacks by town\\nLSTAT - % lower status of the population\\nMEDV - Median value of owner-occupied homes in $1000's\""
      ]
     },
     "execution_count": 3,
     "metadata": {},
     "output_type": "execute_result"
    }
   ],
   "source": [
    "\"\"\"\n",
    "CRIM - per capita crime rate by town\n",
    "ZN - proportion of residential land zoned for lots over 25,000 sq.ft.\n",
    "INDUS - proportion of non-retail business acres per town.\n",
    "CHAS - Charles River dummy variable (1 if tract bounds river; 0 otherwise)\n",
    "NOX - nitric oxides concentration (parts per 10 million)\n",
    "RM - average number of rooms per dwelling\n",
    "AGE - proportion of owner-occupied units built prior to 1940\n",
    "DIS - weighted distances to five Boston employment centres\n",
    "RAD - index of accessibility to radial highways\n",
    "TAX - full-value property-tax rate per $10,000\n",
    "PTRATIO - pupil-teacher ratio by town\n",
    "B - 1000(Bk - 0.63)^2 where Bk is the proportion of blacks by town\n",
    "LSTAT - % lower status of the population\n",
    "MEDV - Median value of owner-occupied homes in $1000's\"\"\""
   ]
  },
  {
   "cell_type": "code",
   "execution_count": 3,
   "metadata": {},
   "outputs": [
    {
     "data": {
      "text/html": [
       "<div>\n",
       "<style scoped>\n",
       "    .dataframe tbody tr th:only-of-type {\n",
       "        vertical-align: middle;\n",
       "    }\n",
       "\n",
       "    .dataframe tbody tr th {\n",
       "        vertical-align: top;\n",
       "    }\n",
       "\n",
       "    .dataframe thead th {\n",
       "        text-align: right;\n",
       "    }\n",
       "</style>\n",
       "<table border=\"1\" class=\"dataframe\">\n",
       "  <thead>\n",
       "    <tr style=\"text-align: right;\">\n",
       "      <th></th>\n",
       "      <th>CRIM</th>\n",
       "      <th>ZN</th>\n",
       "      <th>INDUS</th>\n",
       "      <th>CHAS</th>\n",
       "      <th>NOX</th>\n",
       "      <th>RM</th>\n",
       "      <th>AGE</th>\n",
       "      <th>DIS</th>\n",
       "      <th>RAD</th>\n",
       "      <th>TAX</th>\n",
       "      <th>PTRATIO</th>\n",
       "      <th>B</th>\n",
       "      <th>LSTAT</th>\n",
       "      <th>MEDV</th>\n",
       "    </tr>\n",
       "  </thead>\n",
       "  <tbody>\n",
       "    <tr>\n",
       "      <th>0</th>\n",
       "      <td>0.00632</td>\n",
       "      <td>18.0</td>\n",
       "      <td>2.31</td>\n",
       "      <td>0</td>\n",
       "      <td>0.538</td>\n",
       "      <td>6.575</td>\n",
       "      <td>65.2</td>\n",
       "      <td>4.0900</td>\n",
       "      <td>1</td>\n",
       "      <td>296.0</td>\n",
       "      <td>15.3</td>\n",
       "      <td>396.90</td>\n",
       "      <td>4.98</td>\n",
       "      <td>24.0</td>\n",
       "    </tr>\n",
       "    <tr>\n",
       "      <th>1</th>\n",
       "      <td>0.02731</td>\n",
       "      <td>0.0</td>\n",
       "      <td>7.07</td>\n",
       "      <td>0</td>\n",
       "      <td>0.469</td>\n",
       "      <td>6.421</td>\n",
       "      <td>78.9</td>\n",
       "      <td>4.9671</td>\n",
       "      <td>2</td>\n",
       "      <td>242.0</td>\n",
       "      <td>17.8</td>\n",
       "      <td>396.90</td>\n",
       "      <td>9.14</td>\n",
       "      <td>21.6</td>\n",
       "    </tr>\n",
       "    <tr>\n",
       "      <th>2</th>\n",
       "      <td>0.02729</td>\n",
       "      <td>0.0</td>\n",
       "      <td>7.07</td>\n",
       "      <td>0</td>\n",
       "      <td>0.469</td>\n",
       "      <td>7.185</td>\n",
       "      <td>61.1</td>\n",
       "      <td>4.9671</td>\n",
       "      <td>2</td>\n",
       "      <td>242.0</td>\n",
       "      <td>17.8</td>\n",
       "      <td>392.83</td>\n",
       "      <td>4.03</td>\n",
       "      <td>34.7</td>\n",
       "    </tr>\n",
       "    <tr>\n",
       "      <th>3</th>\n",
       "      <td>0.03237</td>\n",
       "      <td>0.0</td>\n",
       "      <td>2.18</td>\n",
       "      <td>0</td>\n",
       "      <td>0.458</td>\n",
       "      <td>6.998</td>\n",
       "      <td>45.8</td>\n",
       "      <td>6.0622</td>\n",
       "      <td>3</td>\n",
       "      <td>222.0</td>\n",
       "      <td>18.7</td>\n",
       "      <td>394.63</td>\n",
       "      <td>2.94</td>\n",
       "      <td>33.4</td>\n",
       "    </tr>\n",
       "    <tr>\n",
       "      <th>4</th>\n",
       "      <td>0.06905</td>\n",
       "      <td>0.0</td>\n",
       "      <td>2.18</td>\n",
       "      <td>0</td>\n",
       "      <td>0.458</td>\n",
       "      <td>7.147</td>\n",
       "      <td>54.2</td>\n",
       "      <td>6.0622</td>\n",
       "      <td>3</td>\n",
       "      <td>222.0</td>\n",
       "      <td>18.7</td>\n",
       "      <td>396.90</td>\n",
       "      <td>5.33</td>\n",
       "      <td>36.2</td>\n",
       "    </tr>\n",
       "    <tr>\n",
       "      <th>...</th>\n",
       "      <td>...</td>\n",
       "      <td>...</td>\n",
       "      <td>...</td>\n",
       "      <td>...</td>\n",
       "      <td>...</td>\n",
       "      <td>...</td>\n",
       "      <td>...</td>\n",
       "      <td>...</td>\n",
       "      <td>...</td>\n",
       "      <td>...</td>\n",
       "      <td>...</td>\n",
       "      <td>...</td>\n",
       "      <td>...</td>\n",
       "      <td>...</td>\n",
       "    </tr>\n",
       "    <tr>\n",
       "      <th>501</th>\n",
       "      <td>0.06263</td>\n",
       "      <td>0.0</td>\n",
       "      <td>11.93</td>\n",
       "      <td>0</td>\n",
       "      <td>0.573</td>\n",
       "      <td>6.593</td>\n",
       "      <td>69.1</td>\n",
       "      <td>2.4786</td>\n",
       "      <td>1</td>\n",
       "      <td>273.0</td>\n",
       "      <td>21.0</td>\n",
       "      <td>391.99</td>\n",
       "      <td>9.67</td>\n",
       "      <td>22.4</td>\n",
       "    </tr>\n",
       "    <tr>\n",
       "      <th>502</th>\n",
       "      <td>0.04527</td>\n",
       "      <td>0.0</td>\n",
       "      <td>11.93</td>\n",
       "      <td>0</td>\n",
       "      <td>0.573</td>\n",
       "      <td>6.120</td>\n",
       "      <td>76.7</td>\n",
       "      <td>2.2875</td>\n",
       "      <td>1</td>\n",
       "      <td>273.0</td>\n",
       "      <td>21.0</td>\n",
       "      <td>396.90</td>\n",
       "      <td>9.08</td>\n",
       "      <td>20.6</td>\n",
       "    </tr>\n",
       "    <tr>\n",
       "      <th>503</th>\n",
       "      <td>0.06076</td>\n",
       "      <td>0.0</td>\n",
       "      <td>11.93</td>\n",
       "      <td>0</td>\n",
       "      <td>0.573</td>\n",
       "      <td>6.976</td>\n",
       "      <td>91.0</td>\n",
       "      <td>2.1675</td>\n",
       "      <td>1</td>\n",
       "      <td>273.0</td>\n",
       "      <td>21.0</td>\n",
       "      <td>396.90</td>\n",
       "      <td>5.64</td>\n",
       "      <td>23.9</td>\n",
       "    </tr>\n",
       "    <tr>\n",
       "      <th>504</th>\n",
       "      <td>0.10959</td>\n",
       "      <td>0.0</td>\n",
       "      <td>11.93</td>\n",
       "      <td>0</td>\n",
       "      <td>0.573</td>\n",
       "      <td>6.794</td>\n",
       "      <td>89.3</td>\n",
       "      <td>2.3889</td>\n",
       "      <td>1</td>\n",
       "      <td>273.0</td>\n",
       "      <td>21.0</td>\n",
       "      <td>393.45</td>\n",
       "      <td>6.48</td>\n",
       "      <td>22.0</td>\n",
       "    </tr>\n",
       "    <tr>\n",
       "      <th>505</th>\n",
       "      <td>0.04741</td>\n",
       "      <td>0.0</td>\n",
       "      <td>11.93</td>\n",
       "      <td>0</td>\n",
       "      <td>0.573</td>\n",
       "      <td>6.030</td>\n",
       "      <td>80.8</td>\n",
       "      <td>2.5050</td>\n",
       "      <td>1</td>\n",
       "      <td>273.0</td>\n",
       "      <td>21.0</td>\n",
       "      <td>396.90</td>\n",
       "      <td>7.88</td>\n",
       "      <td>11.9</td>\n",
       "    </tr>\n",
       "  </tbody>\n",
       "</table>\n",
       "<p>506 rows × 14 columns</p>\n",
       "</div>"
      ],
      "text/plain": [
       "        CRIM    ZN  INDUS  CHAS    NOX     RM   AGE     DIS  RAD    TAX  \\\n",
       "0    0.00632  18.0   2.31     0  0.538  6.575  65.2  4.0900    1  296.0   \n",
       "1    0.02731   0.0   7.07     0  0.469  6.421  78.9  4.9671    2  242.0   \n",
       "2    0.02729   0.0   7.07     0  0.469  7.185  61.1  4.9671    2  242.0   \n",
       "3    0.03237   0.0   2.18     0  0.458  6.998  45.8  6.0622    3  222.0   \n",
       "4    0.06905   0.0   2.18     0  0.458  7.147  54.2  6.0622    3  222.0   \n",
       "..       ...   ...    ...   ...    ...    ...   ...     ...  ...    ...   \n",
       "501  0.06263   0.0  11.93     0  0.573  6.593  69.1  2.4786    1  273.0   \n",
       "502  0.04527   0.0  11.93     0  0.573  6.120  76.7  2.2875    1  273.0   \n",
       "503  0.06076   0.0  11.93     0  0.573  6.976  91.0  2.1675    1  273.0   \n",
       "504  0.10959   0.0  11.93     0  0.573  6.794  89.3  2.3889    1  273.0   \n",
       "505  0.04741   0.0  11.93     0  0.573  6.030  80.8  2.5050    1  273.0   \n",
       "\n",
       "     PTRATIO       B  LSTAT  MEDV  \n",
       "0       15.3  396.90   4.98  24.0  \n",
       "1       17.8  396.90   9.14  21.6  \n",
       "2       17.8  392.83   4.03  34.7  \n",
       "3       18.7  394.63   2.94  33.4  \n",
       "4       18.7  396.90   5.33  36.2  \n",
       "..       ...     ...    ...   ...  \n",
       "501     21.0  391.99   9.67  22.4  \n",
       "502     21.0  396.90   9.08  20.6  \n",
       "503     21.0  396.90   5.64  23.9  \n",
       "504     21.0  393.45   6.48  22.0  \n",
       "505     21.0  396.90   7.88  11.9  \n",
       "\n",
       "[506 rows x 14 columns]"
      ]
     },
     "execution_count": 3,
     "metadata": {},
     "output_type": "execute_result"
    }
   ],
   "source": [
    "data"
   ]
  },
  {
   "cell_type": "markdown",
   "metadata": {},
   "source": [
    "## 1. Split this data set into training (80%) and testing (20%) sets.\n",
    "\n",
    "The `MEDV` field represents the median value of owner-occupied homes (in $1000's) and is the target variable that we will want to predict."
   ]
  },
  {
   "cell_type": "code",
   "execution_count": 10,
   "metadata": {},
   "outputs": [
    {
     "name": "stdout",
     "output_type": "stream",
     "text": [
      "0    24.0\n",
      "1    21.6\n",
      "2    34.7\n",
      "3    33.4\n",
      "4    36.2\n",
      "Name: MEDV, dtype: float64\n",
      "Train set: (404, 13) (404,)\n",
      "Test set: (102, 13) (102,)\n"
     ]
    }
   ],
   "source": [
    "# Your code here :\n",
    "X = data.drop(columns='MEDV')\n",
    "#print(X.head())\n",
    "y = data['MEDV']\n",
    "print(y.head())\n",
    "from sklearn.model_selection import train_test_split\n",
    "X_train, X_test, y_train, y_test = train_test_split( X, y, test_size=0.2, random_state=42)\n",
    "print ('Train set:', X_train.shape,  y_train.shape)\n",
    "print ('Test set:', X_test.shape,  y_test.shape)\n",
    "\n"
   ]
  },
  {
   "cell_type": "markdown",
   "metadata": {},
   "source": [
    "## 2. Train a `LinearRegression` model on this data set and generate predictions on both the training and the testing set."
   ]
  },
  {
   "cell_type": "code",
   "execution_count": 13,
   "metadata": {},
   "outputs": [],
   "source": [
    "# Your code here :\n",
    "from sklearn.linear_model import LinearRegression\n",
    "LR_model = LinearRegression()\n",
    "LR_model.fit(X_train, y_train)\n",
    " \n",
    "y_train_pred = LR_model.predict(X_train)\n",
    "y_test_pred = LR_model.predict(X_test)\n"
   ]
  },
  {
   "cell_type": "markdown",
   "metadata": {},
   "source": [
    "## 3. Calculate and print R-squared for both the training and the testing set."
   ]
  },
  {
   "cell_type": "code",
   "execution_count": 20,
   "metadata": {},
   "outputs": [
    {
     "name": "stdout",
     "output_type": "stream",
     "text": [
      "R2 score - train dataset: 0.7508856358979673\n",
      "R2 score - test dataset: 0.6687594935356307\n"
     ]
    }
   ],
   "source": [
    "# Your code here :\n",
    "RSQ_train = LR_model.score(X_train, y_train)\n",
    "RSQ_test = LR_model.score(X_test, y_test)\n",
    "print(f\"R2 score - train dataset: {RSQ_train}\")\n",
    "print(f\"R2 score - test dataset: {RSQ_test}\")\n"
   ]
  },
  {
   "cell_type": "markdown",
   "metadata": {},
   "source": [
    "## 4. Calculate and print mean squared error for both the training and the testing set."
   ]
  },
  {
   "cell_type": "code",
   "execution_count": 21,
   "metadata": {},
   "outputs": [
    {
     "name": "stdout",
     "output_type": "stream",
     "text": [
      "Mean Squared Error - Train set: 21.641412753226312\n",
      "Mean Squared Error - Test set: 24.291119474973613\n"
     ]
    }
   ],
   "source": [
    "from sklearn.metrics import mean_squared_error\n",
    "\n",
    "# Your code here :\n",
    "mse_train = mean_squared_error(y_train, y_train_pred)\n",
    "mse_test = mean_squared_error(y_test, y_test_pred)\n",
    "\n",
    "print(f\"Mean Squared Error - Train set: {mse_train}\")\n",
    "print(f\"Mean Squared Error - Test set: {mse_test}\")"
   ]
  },
  {
   "cell_type": "markdown",
   "metadata": {},
   "source": [
    "## 5. Calculate and print mean absolute error for both the training and the testing set."
   ]
  },
  {
   "cell_type": "code",
   "execution_count": 22,
   "metadata": {},
   "outputs": [
    {
     "name": "stdout",
     "output_type": "stream",
     "text": [
      "Mean Absolute Error - Train set: 3.314771626783227\n",
      "Mean Absolute Error - Test set: 3.189091965887852\n"
     ]
    }
   ],
   "source": [
    "from sklearn.metrics import mean_absolute_error\n",
    "\n",
    "# Your code here :\n",
    "# Calculate mean absolute error for both the training and the testing set\n",
    "mae_train = mean_absolute_error(y_train, y_train_pred)\n",
    "mae_test = mean_absolute_error(y_test, y_test_pred)\n",
    "\n",
    "print(f\"Mean Absolute Error - Train set: {mae_train}\")\n",
    "print(f\"Mean Absolute Error - Test set: {mae_test}\")"
   ]
  },
  {
   "cell_type": "markdown",
   "metadata": {},
   "source": [
    "## Classification Model Evaluation"
   ]
  },
  {
   "cell_type": "code",
   "execution_count": 40,
   "metadata": {},
   "outputs": [],
   "source": [
    "from sklearn.datasets import load_iris\n",
    "data = load_iris()\n"
   ]
  },
  {
   "cell_type": "code",
   "execution_count": 41,
   "metadata": {},
   "outputs": [
    {
     "name": "stdout",
     "output_type": "stream",
     "text": [
      ".. _iris_dataset:\n",
      "\n",
      "Iris plants dataset\n",
      "--------------------\n",
      "\n",
      "**Data Set Characteristics:**\n",
      "\n",
      "    :Number of Instances: 150 (50 in each of three classes)\n",
      "    :Number of Attributes: 4 numeric, predictive attributes and the class\n",
      "    :Attribute Information:\n",
      "        - sepal length in cm\n",
      "        - sepal width in cm\n",
      "        - petal length in cm\n",
      "        - petal width in cm\n",
      "        - class:\n",
      "                - Iris-Setosa\n",
      "                - Iris-Versicolour\n",
      "                - Iris-Virginica\n",
      "                \n",
      "    :Summary Statistics:\n",
      "\n",
      "    ============== ==== ==== ======= ===== ====================\n",
      "                    Min  Max   Mean    SD   Class Correlation\n",
      "    ============== ==== ==== ======= ===== ====================\n",
      "    sepal length:   4.3  7.9   5.84   0.83    0.7826\n",
      "    sepal width:    2.0  4.4   3.05   0.43   -0.4194\n",
      "    petal length:   1.0  6.9   3.76   1.76    0.9490  (high!)\n",
      "    petal width:    0.1  2.5   1.20   0.76    0.9565  (high!)\n",
      "    ============== ==== ==== ======= ===== ====================\n",
      "\n",
      "    :Missing Attribute Values: None\n",
      "    :Class Distribution: 33.3% for each of 3 classes.\n",
      "    :Creator: R.A. Fisher\n",
      "    :Donor: Michael Marshall (MARSHALL%PLU@io.arc.nasa.gov)\n",
      "    :Date: July, 1988\n",
      "\n",
      "The famous Iris database, first used by Sir R.A. Fisher. The dataset is taken\n",
      "from Fisher's paper. Note that it's the same as in R, but not as in the UCI\n",
      "Machine Learning Repository, which has two wrong data points.\n",
      "\n",
      "This is perhaps the best known database to be found in the\n",
      "pattern recognition literature.  Fisher's paper is a classic in the field and\n",
      "is referenced frequently to this day.  (See Duda & Hart, for example.)  The\n",
      "data set contains 3 classes of 50 instances each, where each class refers to a\n",
      "type of iris plant.  One class is linearly separable from the other 2; the\n",
      "latter are NOT linearly separable from each other.\n",
      "\n",
      ".. topic:: References\n",
      "\n",
      "   - Fisher, R.A. \"The use of multiple measurements in taxonomic problems\"\n",
      "     Annual Eugenics, 7, Part II, 179-188 (1936); also in \"Contributions to\n",
      "     Mathematical Statistics\" (John Wiley, NY, 1950).\n",
      "   - Duda, R.O., & Hart, P.E. (1973) Pattern Classification and Scene Analysis.\n",
      "     (Q327.D83) John Wiley & Sons.  ISBN 0-471-22361-1.  See page 218.\n",
      "   - Dasarathy, B.V. (1980) \"Nosing Around the Neighborhood: A New System\n",
      "     Structure and Classification Rule for Recognition in Partially Exposed\n",
      "     Environments\".  IEEE Transactions on Pattern Analysis and Machine\n",
      "     Intelligence, Vol. PAMI-2, No. 1, 67-71.\n",
      "   - Gates, G.W. (1972) \"The Reduced Nearest Neighbor Rule\".  IEEE Transactions\n",
      "     on Information Theory, May 1972, 431-433.\n",
      "   - See also: 1988 MLC Proceedings, 54-64.  Cheeseman et al\"s AUTOCLASS II\n",
      "     conceptual clustering system finds 3 classes in the data.\n",
      "   - Many, many more ...\n"
     ]
    }
   ],
   "source": [
    "print(data.DESCR)"
   ]
  },
  {
   "cell_type": "code",
   "execution_count": 42,
   "metadata": {},
   "outputs": [
    {
     "data": {
      "text/plain": [
       "['sepal length (cm)',\n",
       " 'sepal width (cm)',\n",
       " 'petal length (cm)',\n",
       " 'petal width (cm)']"
      ]
     },
     "execution_count": 42,
     "metadata": {},
     "output_type": "execute_result"
    }
   ],
   "source": [
    "column_names = data.feature_names\n",
    "column_names"
   ]
  },
  {
   "cell_type": "code",
   "execution_count": 44,
   "metadata": {},
   "outputs": [],
   "source": [
    "df = pd.DataFrame(data['data'],columns=column_names)"
   ]
  },
  {
   "cell_type": "code",
   "execution_count": 45,
   "metadata": {},
   "outputs": [
    {
     "data": {
      "text/html": [
       "<div>\n",
       "<style scoped>\n",
       "    .dataframe tbody tr th:only-of-type {\n",
       "        vertical-align: middle;\n",
       "    }\n",
       "\n",
       "    .dataframe tbody tr th {\n",
       "        vertical-align: top;\n",
       "    }\n",
       "\n",
       "    .dataframe thead th {\n",
       "        text-align: right;\n",
       "    }\n",
       "</style>\n",
       "<table border=\"1\" class=\"dataframe\">\n",
       "  <thead>\n",
       "    <tr style=\"text-align: right;\">\n",
       "      <th></th>\n",
       "      <th>sepal length (cm)</th>\n",
       "      <th>sepal width (cm)</th>\n",
       "      <th>petal length (cm)</th>\n",
       "      <th>petal width (cm)</th>\n",
       "    </tr>\n",
       "  </thead>\n",
       "  <tbody>\n",
       "    <tr>\n",
       "      <th>0</th>\n",
       "      <td>5.1</td>\n",
       "      <td>3.5</td>\n",
       "      <td>1.4</td>\n",
       "      <td>0.2</td>\n",
       "    </tr>\n",
       "    <tr>\n",
       "      <th>1</th>\n",
       "      <td>4.9</td>\n",
       "      <td>3.0</td>\n",
       "      <td>1.4</td>\n",
       "      <td>0.2</td>\n",
       "    </tr>\n",
       "    <tr>\n",
       "      <th>2</th>\n",
       "      <td>4.7</td>\n",
       "      <td>3.2</td>\n",
       "      <td>1.3</td>\n",
       "      <td>0.2</td>\n",
       "    </tr>\n",
       "    <tr>\n",
       "      <th>3</th>\n",
       "      <td>4.6</td>\n",
       "      <td>3.1</td>\n",
       "      <td>1.5</td>\n",
       "      <td>0.2</td>\n",
       "    </tr>\n",
       "    <tr>\n",
       "      <th>4</th>\n",
       "      <td>5.0</td>\n",
       "      <td>3.6</td>\n",
       "      <td>1.4</td>\n",
       "      <td>0.2</td>\n",
       "    </tr>\n",
       "    <tr>\n",
       "      <th>...</th>\n",
       "      <td>...</td>\n",
       "      <td>...</td>\n",
       "      <td>...</td>\n",
       "      <td>...</td>\n",
       "    </tr>\n",
       "    <tr>\n",
       "      <th>145</th>\n",
       "      <td>6.7</td>\n",
       "      <td>3.0</td>\n",
       "      <td>5.2</td>\n",
       "      <td>2.3</td>\n",
       "    </tr>\n",
       "    <tr>\n",
       "      <th>146</th>\n",
       "      <td>6.3</td>\n",
       "      <td>2.5</td>\n",
       "      <td>5.0</td>\n",
       "      <td>1.9</td>\n",
       "    </tr>\n",
       "    <tr>\n",
       "      <th>147</th>\n",
       "      <td>6.5</td>\n",
       "      <td>3.0</td>\n",
       "      <td>5.2</td>\n",
       "      <td>2.0</td>\n",
       "    </tr>\n",
       "    <tr>\n",
       "      <th>148</th>\n",
       "      <td>6.2</td>\n",
       "      <td>3.4</td>\n",
       "      <td>5.4</td>\n",
       "      <td>2.3</td>\n",
       "    </tr>\n",
       "    <tr>\n",
       "      <th>149</th>\n",
       "      <td>5.9</td>\n",
       "      <td>3.0</td>\n",
       "      <td>5.1</td>\n",
       "      <td>1.8</td>\n",
       "    </tr>\n",
       "  </tbody>\n",
       "</table>\n",
       "<p>150 rows × 4 columns</p>\n",
       "</div>"
      ],
      "text/plain": [
       "     sepal length (cm)  sepal width (cm)  petal length (cm)  petal width (cm)\n",
       "0                  5.1               3.5                1.4               0.2\n",
       "1                  4.9               3.0                1.4               0.2\n",
       "2                  4.7               3.2                1.3               0.2\n",
       "3                  4.6               3.1                1.5               0.2\n",
       "4                  5.0               3.6                1.4               0.2\n",
       "..                 ...               ...                ...               ...\n",
       "145                6.7               3.0                5.2               2.3\n",
       "146                6.3               2.5                5.0               1.9\n",
       "147                6.5               3.0                5.2               2.0\n",
       "148                6.2               3.4                5.4               2.3\n",
       "149                5.9               3.0                5.1               1.8\n",
       "\n",
       "[150 rows x 4 columns]"
      ]
     },
     "execution_count": 45,
     "metadata": {},
     "output_type": "execute_result"
    }
   ],
   "source": [
    "df"
   ]
  },
  {
   "cell_type": "code",
   "execution_count": 46,
   "metadata": {},
   "outputs": [
    {
     "data": {
      "text/plain": [
       "array([0, 0, 0, 0, 0, 0, 0, 0, 0, 0, 0, 0, 0, 0, 0, 0, 0, 0, 0, 0, 0, 0,\n",
       "       0, 0, 0, 0, 0, 0, 0, 0, 0, 0, 0, 0, 0, 0, 0, 0, 0, 0, 0, 0, 0, 0,\n",
       "       0, 0, 0, 0, 0, 0, 1, 1, 1, 1, 1, 1, 1, 1, 1, 1, 1, 1, 1, 1, 1, 1,\n",
       "       1, 1, 1, 1, 1, 1, 1, 1, 1, 1, 1, 1, 1, 1, 1, 1, 1, 1, 1, 1, 1, 1,\n",
       "       1, 1, 1, 1, 1, 1, 1, 1, 1, 1, 1, 1, 2, 2, 2, 2, 2, 2, 2, 2, 2, 2,\n",
       "       2, 2, 2, 2, 2, 2, 2, 2, 2, 2, 2, 2, 2, 2, 2, 2, 2, 2, 2, 2, 2, 2,\n",
       "       2, 2, 2, 2, 2, 2, 2, 2, 2, 2, 2, 2, 2, 2, 2, 2, 2, 2])"
      ]
     },
     "execution_count": 46,
     "metadata": {},
     "output_type": "execute_result"
    }
   ],
   "source": [
    "data['target']"
   ]
  },
  {
   "cell_type": "code",
   "execution_count": 47,
   "metadata": {},
   "outputs": [],
   "source": [
    "target = pd.DataFrame(data.target)"
   ]
  },
  {
   "cell_type": "code",
   "execution_count": 48,
   "metadata": {},
   "outputs": [
    {
     "data": {
      "text/plain": [
       "dict_keys(['data', 'target', 'frame', 'target_names', 'DESCR', 'feature_names', 'filename', 'data_module'])"
      ]
     },
     "execution_count": 48,
     "metadata": {},
     "output_type": "execute_result"
    }
   ],
   "source": [
    "data.keys()\n"
   ]
  },
  {
   "cell_type": "code",
   "execution_count": 49,
   "metadata": {},
   "outputs": [
    {
     "data": {
      "text/plain": [
       "array(['setosa', 'versicolor', 'virginica'], dtype='<U10')"
      ]
     },
     "execution_count": 49,
     "metadata": {},
     "output_type": "execute_result"
    }
   ],
   "source": [
    "data['target_names']"
   ]
  },
  {
   "cell_type": "markdown",
   "metadata": {},
   "source": [
    "## 6. Split this data set into training (80%) and testing (20%) sets.\n",
    "\n",
    "The `class` field represents the type of flower and is the target variable that we will want to predict."
   ]
  },
  {
   "cell_type": "code",
   "execution_count": 50,
   "metadata": {},
   "outputs": [
    {
     "name": "stdout",
     "output_type": "stream",
     "text": [
      "Train set: (120, 4) (120, 1)\n",
      "Test set: (30, 4) (30, 1)\n"
     ]
    }
   ],
   "source": [
    "# Your code here :\n",
    "from sklearn.model_selection import train_test_split\n",
    "X_train, X_test, y_train, y_test = train_test_split( df, target, test_size=0.2, random_state=4)\n",
    "print ('Train set:', X_train.shape,  y_train.shape)\n",
    "print ('Test set:', X_test.shape,  y_test.shape)\n",
    "\n"
   ]
  },
  {
   "cell_type": "markdown",
   "metadata": {},
   "source": [
    "## 7. Train a `LogisticRegression` model on this data set and generate predictions on both the training and the testing set."
   ]
  },
  {
   "cell_type": "code",
   "execution_count": null,
   "metadata": {},
   "outputs": [
    {
     "name": "stdout",
     "output_type": "stream",
     "text": [
      "[[0.17609878 0.38631752 0.4375837 ]\n",
      " [0.44663023 0.31821706 0.23515271]\n",
      " [0.09888236 0.40666114 0.4944565 ]\n",
      " [0.44148722 0.32331075 0.23520203]\n",
      " [0.23796653 0.3797081  0.38232537]\n",
      " [0.10893214 0.39278258 0.49828529]\n",
      " [0.10969239 0.40586828 0.48443932]\n",
      " [0.20446949 0.39065036 0.40488015]\n",
      " [0.17828715 0.39779221 0.42392064]\n",
      " [0.47024367 0.31060543 0.2191509 ]\n",
      " [0.09425006 0.40651872 0.49923122]\n",
      " [0.45578199 0.31705035 0.22716766]\n",
      " [0.20036671 0.39501347 0.40461982]\n",
      " [0.47756133 0.31071829 0.21172038]\n",
      " [0.10521238 0.39736527 0.49742235]\n",
      " [0.45687995 0.31442401 0.22869604]\n",
      " [0.51157302 0.29491291 0.19351407]\n",
      " [0.19911634 0.38686439 0.41401926]\n",
      " [0.17848987 0.39360154 0.42790859]\n",
      " [0.12306963 0.40001532 0.47691505]\n",
      " [0.46412102 0.31510271 0.22077627]\n",
      " [0.20821755 0.38965122 0.40213123]\n",
      " [0.06164361 0.40707439 0.53128201]\n",
      " [0.11567773 0.38926899 0.49505329]\n",
      " [0.19734932 0.39296624 0.40968445]\n",
      " [0.19927129 0.38772842 0.41300029]\n",
      " [0.43986661 0.3184495  0.24168389]\n",
      " [0.23922478 0.37831281 0.38246242]\n",
      " [0.12822637 0.40379257 0.46798106]\n",
      " [0.17681755 0.39294596 0.43023649]\n",
      " [0.45329445 0.31403538 0.23267017]\n",
      " [0.20884959 0.38423684 0.40691357]\n",
      " [0.4574227  0.31723415 0.22534315]\n",
      " [0.19919765 0.39460872 0.40619363]\n",
      " [0.11852705 0.39978106 0.48169189]\n",
      " [0.15206924 0.40002766 0.4479031 ]\n",
      " [0.14431383 0.39429199 0.46139418]\n",
      " [0.19317067 0.3851931  0.42163624]\n",
      " [0.44240285 0.32334859 0.23424855]\n",
      " [0.15088159 0.38722303 0.46189538]\n",
      " [0.11134293 0.39740718 0.49124989]\n",
      " [0.45566886 0.31839244 0.2259387 ]\n",
      " [0.20992815 0.38895572 0.40111613]\n",
      " [0.09505342 0.389936   0.51501057]\n",
      " [0.47317248 0.3098973  0.21693022]\n",
      " [0.15080558 0.39336116 0.45583326]\n",
      " [0.17187689 0.39881535 0.42930776]\n",
      " [0.13896869 0.39300368 0.46802762]\n",
      " [0.14375293 0.40281385 0.45343321]\n",
      " [0.47475419 0.30945772 0.21578809]\n",
      " [0.11406135 0.40423415 0.4817045 ]\n",
      " [0.19200921 0.39176383 0.41622696]\n",
      " [0.10286456 0.40322713 0.49390831]\n",
      " [0.48374639 0.31023728 0.20601633]\n",
      " [0.12160086 0.40026057 0.47813857]\n",
      " [0.18756456 0.39186819 0.42056725]\n",
      " [0.12650452 0.39940716 0.47408832]\n",
      " [0.21513544 0.38784069 0.39702387]\n",
      " [0.12757586 0.39441385 0.47801029]\n",
      " [0.2123167  0.38965545 0.39802785]\n",
      " [0.16145536 0.38863837 0.44990627]\n",
      " [0.12640561 0.38863958 0.48495481]\n",
      " [0.20188379 0.38786005 0.41025616]\n",
      " [0.19548464 0.39556382 0.40895154]\n",
      " [0.11984611 0.38917165 0.49098224]\n",
      " [0.19662981 0.39877343 0.40459676]\n",
      " [0.20778702 0.39151029 0.40070269]\n",
      " [0.49484544 0.29941216 0.2057424 ]\n",
      " [0.11017611 0.39532319 0.4945007 ]\n",
      " [0.42706644 0.32550139 0.24743217]\n",
      " [0.16512648 0.40396264 0.43091088]\n",
      " [0.47589109 0.31058937 0.21351954]\n",
      " [0.20350065 0.38241378 0.41408557]\n",
      " [0.1707864  0.39837553 0.43083807]\n",
      " [0.19500344 0.38920058 0.41579598]\n",
      " [0.21963875 0.38795284 0.39240841]\n",
      " [0.46654125 0.3126471  0.22081165]\n",
      " [0.1277765  0.39593434 0.47628916]\n",
      " [0.15557547 0.39178808 0.45263646]\n",
      " [0.20615686 0.38681515 0.407028  ]\n",
      " [0.26603014 0.37166456 0.3623053 ]\n",
      " [0.24411923 0.38314702 0.37273375]\n",
      " [0.43425048 0.32290289 0.24284663]\n",
      " [0.46645156 0.31480246 0.21874597]\n",
      " [0.1368932  0.39622576 0.46688104]\n",
      " [0.13676256 0.3898994  0.47333804]\n",
      " [0.5115828  0.29623723 0.19217997]\n",
      " [0.43654595 0.32333444 0.2401196 ]\n",
      " [0.45069522 0.31534469 0.23396009]\n",
      " [0.12679268 0.39184907 0.48135824]\n",
      " [0.47218849 0.30992566 0.21788585]\n",
      " [0.49755154 0.3007358  0.20171266]\n",
      " [0.12968533 0.40002617 0.4702885 ]\n",
      " [0.1024692  0.39685875 0.50067204]\n",
      " [0.17770803 0.38789021 0.43440176]\n",
      " [0.45814067 0.31675627 0.22510305]\n",
      " [0.42854568 0.32429542 0.24715889]\n",
      " [0.42996346 0.32589995 0.24413659]\n",
      " [0.09080713 0.40145231 0.50774056]\n",
      " [0.17944236 0.39116571 0.42939193]\n",
      " [0.46595136 0.31093244 0.2231162 ]\n",
      " [0.4698213  0.31234255 0.21783615]\n",
      " [0.10738116 0.40593073 0.48668812]\n",
      " [0.16785726 0.40143857 0.43070417]\n",
      " [0.15055336 0.39570417 0.45374247]\n",
      " [0.44082863 0.31970276 0.23946861]\n",
      " [0.44084462 0.31905159 0.24010379]\n",
      " [0.1331762  0.39690903 0.46991477]\n",
      " [0.24116015 0.37744288 0.38139697]\n",
      " [0.17681814 0.39245631 0.43072554]\n",
      " [0.19076784 0.38967338 0.41955878]\n",
      " [0.10202595 0.39513099 0.50284306]\n",
      " [0.11481175 0.39952909 0.48565917]\n",
      " [0.1818284  0.39976093 0.41841066]\n",
      " [0.1252316  0.39820796 0.47656044]\n",
      " [0.18750724 0.39978023 0.41271253]\n",
      " [0.16993356 0.40260276 0.42746368]\n",
      " [0.1022511  0.39686377 0.50088514]\n",
      " [0.11736837 0.40924768 0.47338395]\n",
      " [0.07434381 0.41032313 0.51533306]]\n",
      "[[0.1070674  0.39834655 0.49458605]\n",
      " [0.46946426 0.31449488 0.21604086]\n",
      " [0.09536466 0.4097341  0.49490124]\n",
      " [0.07937576 0.40723568 0.51338856]\n",
      " [0.0912851  0.40914435 0.49957055]\n",
      " [0.17738782 0.39238705 0.43022513]\n",
      " [0.13531718 0.39856693 0.46611589]\n",
      " [0.52077331 0.29578775 0.18343895]\n",
      " [0.46621949 0.31200362 0.22177689]\n",
      " [0.14249223 0.40093506 0.45657271]\n",
      " [0.42810631 0.32863654 0.24325715]\n",
      " [0.44507568 0.31920839 0.23571592]\n",
      " [0.44320138 0.32282641 0.23397221]\n",
      " [0.16895858 0.39580949 0.43523193]\n",
      " [0.12416935 0.3942627  0.48156796]\n",
      " [0.43905866 0.32361343 0.23732791]\n",
      " [0.21224621 0.38722383 0.40052996]\n",
      " [0.45557241 0.31592436 0.22850323]\n",
      " [0.42238164 0.32682747 0.25079089]\n",
      " [0.14281079 0.39829523 0.45889399]\n",
      " [0.46773831 0.31391612 0.21834556]\n",
      " [0.11682362 0.39678037 0.486396  ]\n",
      " [0.1550591  0.40235603 0.44258487]\n",
      " [0.44158316 0.32017869 0.23823815]\n",
      " [0.43339382 0.3234377  0.24316847]\n",
      " [0.47431451 0.30831104 0.21737446]\n",
      " [0.40460766 0.33511896 0.26027338]\n",
      " [0.49568816 0.30138758 0.20292425]\n",
      " [0.44732403 0.32307656 0.22959941]\n",
      " [0.12757586 0.39441385 0.47801029]]\n"
     ]
    }
   ],
   "source": [
    "# Your code here :\n",
    "from sklearn.linear_model import LogisticRegression\n",
    "from sklearn.metrics import confusion_matrix\n",
    "LR = LogisticRegression(C=0.01, solver='liblinear')\n",
    "LR.fit(X_train,y_train)\n",
    "\n",
    "y_train_pred = LR.predict(X_train)\n",
    "y_train_pred_prob = LR.predict_proba(X_train)\n",
    "#print(y_train_pred_prob)\n",
    "\n",
    "y_test_pred = LR.predict(X_test)\n",
    "y_test_pred_prob = LR.predict_proba(X_test)\n",
    "#print(y_test_pred_prob)\n",
    "\n",
    "\n"
   ]
  },
  {
   "cell_type": "markdown",
   "metadata": {},
   "source": [
    "## 8. Calculate and print the accuracy score for both the training and the testing set."
   ]
  },
  {
   "cell_type": "code",
   "execution_count": 57,
   "metadata": {},
   "outputs": [
    {
     "name": "stdout",
     "output_type": "stream",
     "text": [
      "Accuracy Score - Train set: 0.6416666666666667\n",
      "Accuracy Score - Test set: 0.8333333333333334\n"
     ]
    }
   ],
   "source": [
    "from sklearn.metrics import accuracy_score\n",
    "\n",
    "# Your code here :\n",
    "# Calculate accuracy score for both the training and the testing set\n",
    "accuracy_train = accuracy_score(y_train, y_train_pred)\n",
    "accuracy_test = accuracy_score(y_test, y_test_pred)\n",
    "\n",
    "print(f\"Accuracy Score - Train set: {accuracy_train}\")\n",
    "print(f\"Accuracy Score - Test set: {accuracy_test}\")\n",
    "\n",
    "\n"
   ]
  },
  {
   "cell_type": "markdown",
   "metadata": {},
   "source": [
    "## 9. Calculate and print the balanced accuracy score for both the training and the testing set."
   ]
  },
  {
   "cell_type": "code",
   "execution_count": 58,
   "metadata": {},
   "outputs": [
    {
     "name": "stdout",
     "output_type": "stream",
     "text": [
      "Balanced Accuracy Score - Train set: 0.6814814814814815\n",
      "Balanced Accuracy Score - Test set: 0.6666666666666666\n"
     ]
    }
   ],
   "source": [
    "from sklearn.metrics import balanced_accuracy_score\n",
    "\n",
    "# Calculate balanced accuracy score for both the training and the testing set\n",
    "balanced_accuracy_train = balanced_accuracy_score(y_train, y_train_pred)\n",
    "balanced_accuracy_test = balanced_accuracy_score(y_test, y_test_pred)\n",
    "\n",
    "print(f\"Balanced Accuracy Score - Train set: {balanced_accuracy_train}\")\n",
    "print(f\"Balanced Accuracy Score - Test set: {balanced_accuracy_test}\")"
   ]
  },
  {
   "cell_type": "markdown",
   "metadata": {},
   "source": [
    "## 10. Calculate and print the precision score for both the training and the testing set."
   ]
  },
  {
   "cell_type": "code",
   "execution_count": 59,
   "metadata": {},
   "outputs": [
    {
     "name": "stdout",
     "output_type": "stream",
     "text": [
      "Precision Score - Train set: 0.8250992063492063\n",
      "Precision Score - Test set: 0.7261904761904762\n"
     ]
    }
   ],
   "source": [
    "from sklearn.metrics import precision_score\n",
    "\n",
    "# Your code here :\n",
    "# Calculate precision score for both the training and the testing set\n",
    "precision_train = precision_score(y_train, y_train_pred, average='weighted')\n",
    "precision_test = precision_score(y_test, y_test_pred, average='weighted')\n",
    "\n",
    "print(f\"Precision Score - Train set: {precision_train}\")\n",
    "print(f\"Precision Score - Test set: {precision_test}\")"
   ]
  },
  {
   "cell_type": "markdown",
   "metadata": {},
   "source": [
    "## 11. Calculate and print the recall score for both the training and the testing set."
   ]
  },
  {
   "cell_type": "code",
   "execution_count": 60,
   "metadata": {},
   "outputs": [
    {
     "name": "stdout",
     "output_type": "stream",
     "text": [
      "Recall Score - Train set: 0.6416666666666667\n",
      "Recall Score - Test set: 0.8333333333333334\n"
     ]
    }
   ],
   "source": [
    "from sklearn.metrics import recall_score\n",
    "\n",
    "# Your code here :\n",
    "# Calculate recall score for both the training and the testing set\n",
    "recall_train = recall_score(y_train, y_train_pred, average='weighted')\n",
    "recall_test = recall_score(y_test, y_test_pred, average='weighted')\n",
    "\n",
    "print(f\"Recall Score - Train set: {recall_train}\")\n",
    "print(f\"Recall Score - Test set: {recall_test}\")"
   ]
  },
  {
   "cell_type": "markdown",
   "metadata": {},
   "source": [
    "## 12. Calculate and print the F1 score for both the training and the testing set."
   ]
  },
  {
   "cell_type": "code",
   "execution_count": 61,
   "metadata": {},
   "outputs": [
    {
     "name": "stdout",
     "output_type": "stream",
     "text": [
      "F1 Score - Train set: 0.539381560283688\n",
      "F1 Score - Test set: 0.7681159420289856\n"
     ]
    }
   ],
   "source": [
    "from sklearn.metrics import f1_score\n",
    "\n",
    "# Your code here :\n",
    "# Calculate F1 score for both the training and the testing set\n",
    "f1_train = f1_score(y_train, y_train_pred, average='weighted')\n",
    "f1_test = f1_score(y_test, y_test_pred, average='weighted')\n",
    "\n",
    "print(f\"F1 Score - Train set: {f1_train}\")\n",
    "print(f\"F1 Score - Test set: {f1_test}\")"
   ]
  },
  {
   "cell_type": "markdown",
   "metadata": {},
   "source": [
    "## 13. Generate confusion matrices for both the training and the testing set."
   ]
  },
  {
   "cell_type": "code",
   "execution_count": 68,
   "metadata": {},
   "outputs": [
    {
     "name": "stdout",
     "output_type": "stream",
     "text": [
      " Train Confusion Matrix: \n",
      " [[34  0  0]\n",
      " [ 0  2 43]\n",
      " [ 0  0 41]]\n",
      " Test Confusion Matrix:\n",
      " [[16  0  0]\n",
      " [ 0  0  5]\n",
      " [ 0  0  9]]\n"
     ]
    }
   ],
   "source": [
    "# Your code here :\n",
    "import numpy as np\n",
    "from sklearn.metrics import confusion_matrix\n",
    "confusion_matrix_train = confusion_matrix(y_train, y_train_pred)\n",
    "np.set_printoptions(precision=2)\n",
    "print(f\" Train Confusion Matrix: \\n {confusion_matrix_train}\")\n",
    "\n",
    "confusion_matrix_test = confusion_matrix(y_test, y_test_pred)\n",
    "np.set_printoptions(precision=2)\n",
    "print(f\" Test Confusion Matrix:\\n {confusion_matrix_test}\")\n"
   ]
  },
  {
   "cell_type": "markdown",
   "metadata": {},
   "source": [
    "## Bonus: For each of the data sets in this lab, try training with some of the other models you have learned about, recalculate the evaluation metrics, and compare to determine which models perform best on each data set."
   ]
  },
  {
   "cell_type": "code",
   "execution_count": 95,
   "metadata": {},
   "outputs": [
    {
     "name": "stdout",
     "output_type": "stream",
     "text": [
      "Test - Mean Squared Error: 0.06508887643954048\n",
      "Train - Mean Squared Error: 0.07133419057636878\n",
      "Test - Mean Absolute Error: 0.19566485620242144\n",
      "Train - Mean Absolute Error: 0.21602168118609907\n",
      "Train - R^2 Score: 0.8852404933192146\n",
      "Test - R^2 Score: 0.9164336821746271\n"
     ]
    }
   ],
   "source": [
    "# Have fun here !\n",
    "##-------------Regression----------------#\n",
    "import pandas as pd\n",
    "import warnings\n",
    "warnings.filterwarnings('ignore')\n",
    "\n",
    "# Load the dataset\n",
    "column_names = ['CRIM', 'ZN', 'INDUS', 'CHAS', 'NOX', 'RM', 'AGE', 'DIS', 'RAD', 'TAX', 'PTRATIO', 'B', 'LSTAT', 'MEDV']\n",
    "data = pd.read_csv('housing.csv', header=None, delimiter=r\"\\s+\", names=column_names)\n",
    "\n",
    "#Split the dataset into X and y\n",
    "X = data.drop(columns='MEDV')\n",
    "#print(X.head())\n",
    "y = data['MEDV']\n",
    "#print(y.head())\n",
    "# Instantiate a Lasso Regression model\n",
    "lasso = linear_model.Lasso(alpha=0.1) # Create a Lasso regressor\n",
    "lasso.fit(X_train, y_train) # Perform the fitting\n",
    "\n",
    "# Predict the target variable for both the training and the testing set\n",
    "y_train_pred_lasso = lasso.predict(X_train)\n",
    "y_test_pred_lasso = lasso.predict(X_test)\n",
    "\n",
    "# -----Evaluation-----#\n",
    "# The mean squared error\n",
    "test_mse_lasso = mean_squared_error(y_test, y_test_pred_lasso)\n",
    "print('Test - Mean Squared Error:', test_mse_lasso)\n",
    "train_mse_lasso = mean_squared_error(y_train, y_train_pred_lasso)\n",
    "print('Train - Mean Squared Error:', train_mse_lasso)\n",
    "\n",
    "# The mean absolute error\n",
    "test_mae_lasso = mean_absolute_error(y_test, y_test_pred_lasso)\n",
    "print('Test - Mean Absolute Error:', test_mae_lasso)\n",
    "train_mae_lasso = mean_absolute_error(y_train, y_train_pred_lasso)\n",
    "print('Train - Mean Absolute Error:', train_mae_lasso)\n",
    "\n",
    "# The coefficient of determination: 1 is perfect prediction\n",
    "r2score_lasso_train = r2_score(y_train, y_train_pred_lasso)\n",
    "print('Train - R^2 Score: {}'.format(r2score_lasso_train))\n",
    "r2score_lasso_test = r2_score(y_test, y_test_pred_lasso)\n",
    "print('Test - R^2 Score: {}'.format(r2score_lasso_test))\n",
    "\n"
   ]
  },
  {
   "cell_type": "code",
   "execution_count": 82,
   "metadata": {},
   "outputs": [
    {
     "name": "stdout",
     "output_type": "stream",
     "text": [
      "Train set: (404, 13) (404,)\n",
      "Test set: (102, 13) (102,)\n",
      "Test - Mean Squared Error: 24.47719122770868\n",
      "Train - Mean Squared Error: 21.82411829157586\n",
      "Test - Mean Absolute Error: 3.1329474278055365\n",
      "Train - Mean Absolute Error: 3.3003067886850688\n",
      "Train - R^2 Score: 0.7487825119234439\n",
      "Test - R^2 Score: 0.6662221670168518\n"
     ]
    }
   ],
   "source": [
    "# Have fun here !\n",
    "##-------------Regression----------------#\n",
    "import pandas as pd\n",
    "import warnings\n",
    "warnings.filterwarnings('ignore')\n",
    "\n",
    "# Load the dataset\n",
    "column_names = ['CRIM', 'ZN', 'INDUS', 'CHAS', 'NOX', 'RM', 'AGE', 'DIS', 'RAD', 'TAX', 'PTRATIO', 'B', 'LSTAT', 'MEDV']\n",
    "data = pd.read_csv('housing.csv', header=None, delimiter=r\"\\s+\", names=column_names)\n",
    "\n",
    "#Split the dataset into X and y\n",
    "X = data.drop(columns='MEDV')\n",
    "#print(X.head())\n",
    "y = data['MEDV']\n",
    "#print(y.head())\n",
    "\n",
    "#Split the dataset into training and testing set\n",
    "from sklearn.model_selection import train_test_split\n",
    "X_train, X_test, y_train, y_test = train_test_split( X, y, test_size=0.2, random_state=42)\n",
    "print ('Train set:', X_train.shape,  y_train.shape)\n",
    "print ('Test set:', X_test.shape,  y_test.shape)\n",
    "\n",
    "#Instantiate a Linear Regression model\n",
    "from sklearn import linear_model \n",
    "from sklearn.metrics import accuracy_score, balanced_accuracy_score, f1_score, recall_score\n",
    "ridge = linear_model.Ridge(alpha=1) # Create a Ridge regressor\n",
    "ridge.fit(X_train, y_train) # Perform the fitting\n",
    "\n",
    "#Predict the target variable for both the training and the testing set\n",
    "y_train_pred_ridge = ridge.predict(X_train)\n",
    "y_test_pred_ridge = ridge.predict(X_test)\n",
    "\n",
    "# -----Evaluation-----#\n",
    "from sklearn.metrics import mean_squared_error, mean_absolute_error, r2_score\n",
    "\n",
    "# The mean squared error\n",
    "test_mse_ridge = mean_squared_error(y_test, y_test_pred_ridge)\n",
    "print('Test - Mean Squared Error:', test_mse_ridge)\n",
    "train_mse_ridge = mean_squared_error(y_train, y_train_pred_ridge)\n",
    "print('Train - Mean Squared Error:', train_mse_ridge)\n",
    "\n",
    "# The mean absolute error\n",
    "test_mae_ridge = mean_absolute_error(y_test, y_test_pred_ridge)\n",
    "print('Test - Mean Absolute Error:', test_mae_ridge)\n",
    "train_mae_ridge = mean_absolute_error(y_train, y_train_pred_ridge)\n",
    "print('Train - Mean Absolute Error:', train_mae_ridge)\n",
    "\n",
    "# The coefficient of determination: 1 is perfect prediction\n",
    "r2score_ridge_train = r2_score(y_train, y_train_pred_ridge)\n",
    "print('Train - R^2 Score: {}'.format(r2score_ridge_train))\n",
    "r2score_ridge_test = r2_score(y_test, y_test_pred_ridge)\n",
    "print('Test - R^2 Score: {}'.format(r2score_ridge_test))\n",
    "\n"
   ]
  },
  {
   "cell_type": "code",
   "execution_count": 94,
   "metadata": {},
   "outputs": [
    {
     "name": "stdout",
     "output_type": "stream",
     "text": [
      "Train set: (120, 4) (120, 1)\n",
      "Test set: (30, 4) (30, 1)\n",
      "DecisionTrees's Accuracy:  0.9666666666666667\n",
      "DecisionTrees's Accuracy:  1.0\n",
      "Decision Tree Accuracy Score - Train set: 1.0\n",
      "Decision Tree Accuracy Score - Test set: 0.9666666666666667\n",
      "Decision Tree Precision Score - Train set: 1.0\n",
      "Decision Tree Precision Score - Test set: 0.9700000000000001\n",
      "Decision Tree Recall Score - Train set: 1.0\n",
      "Decision Tree Recall Score - Test set: 0.9666666666666667\n",
      "Decision Tree F1 Score - Train set: 1.0\n",
      "Decision Tree F1 Score - Test set: 0.9656920077972709\n",
      "Decision Tree Train Confusion Matrix: \n",
      " [[34  0  0]\n",
      " [ 0 45  0]\n",
      " [ 0  0 41]]\n",
      "Decision Tree Test Confusion Matrix:\n",
      " [[16  0  0]\n",
      " [ 0  4  1]\n",
      " [ 0  0  9]]\n"
     ]
    }
   ],
   "source": [
    "#-------------Classification----------------#\n",
    "#Instantiate a Logistic Regression model\n",
    "from sklearn.tree import DecisionTreeClassifier\n",
    "from sklearn import metrics\n",
    "from sklearn.metrics import confusion_matrix\n",
    "from sklearn.metrics import accuracy_score, precision_score, recall_score, f1_score, confusion_matrix\n",
    "import pandas as pd\n",
    "import numpy as np\n",
    "#Load the dataset\n",
    "from sklearn.datasets import load_iris\n",
    "data = load_iris()\n",
    "column_names = data.feature_names\n",
    "\n",
    "# Set Input and Output VARIABLES\n",
    "df = pd.DataFrame(data['data'],columns=column_names)\n",
    "data['target_names']\n",
    "target = pd.DataFrame(data.target, columns=['class'])\n",
    "\n",
    "#Train and Test Split\n",
    "from sklearn.model_selection import train_test_split\n",
    "X_train, X_test, y_train, y_test = train_test_split( df, target, test_size=0.2, random_state=4)\n",
    "print ('Train set:', X_train.shape,  y_train.shape)\n",
    "print ('Test set:', X_test.shape,  y_test.shape)\n",
    "\n",
    "#Instantiate the DecisionTreeClassifier\n",
    "irisTree = DecisionTreeClassifier(criterion=\"log_loss\", max_depth = 10)\n",
    "#Fit the model with the training data\n",
    "irisTree.fit(X_train,y_train)\n",
    "\n",
    "#Predict the output of the testing data\n",
    "predTree_test = irisTree.predict(X_test)\n",
    "predTree_train = irisTree.predict(X_train)\n",
    "\n",
    "#Print the output of the testing and training  data\n",
    "print(\"DecisionTrees's Accuracy: \", metrics.accuracy_score(y_test, predTree_test))\n",
    "print(\"DecisionTrees's Accuracy: \", metrics.accuracy_score(y_train, predTree_train))\n",
    "\n",
    "\n",
    "# -----Evaluation-----#\n",
    "# Calculate and print evaluation metrics\n",
    "accuracy_train_dt = accuracy_score(y_train, predTree_train)\n",
    "accuracy_test_dt = accuracy_score(y_test, predTree_test)\n",
    "print(f\"Decision Tree Accuracy Score - Train set: {accuracy_train_dt}\")\n",
    "print(f\"Decision Tree Accuracy Score - Test set: {accuracy_test_dt}\")\n",
    "\n",
    "precision_train_dt = precision_score(y_train, predTree_train, average='weighted')\n",
    "precision_test_dt = precision_score(y_test, predTree_test, average='weighted')\n",
    "print(f\"Decision Tree Precision Score - Train set: {precision_train_dt}\")\n",
    "print(f\"Decision Tree Precision Score - Test set: {precision_test_dt}\")\n",
    "\n",
    "recall_train_dt = recall_score(y_train, predTree_train, average='weighted')\n",
    "recall_test_dt = recall_score(y_test, predTree_test, average='weighted')\n",
    "print(f\"Decision Tree Recall Score - Train set: {recall_train_dt}\")\n",
    "print(f\"Decision Tree Recall Score - Test set: {recall_test_dt}\")\n",
    "\n",
    "f1_train_dt = f1_score(y_train, predTree_train, average='weighted')\n",
    "f1_test_dt = f1_score(y_test, predTree_test, average='weighted')\n",
    "print(f\"Decision Tree F1 Score - Train set: {f1_train_dt}\")\n",
    "print(f\"Decision Tree F1 Score - Test set: {f1_test_dt}\")\n",
    "\n",
    "confusion_matrix_train_dt = confusion_matrix(y_train, predTree_train)\n",
    "confusion_matrix_test_dt = confusion_matrix(y_test, predTree_test)\n",
    "print(f\"Decision Tree Train Confusion Matrix: \\n {confusion_matrix_train_dt}\")\n",
    "print(f\"Decision Tree Test Confusion Matrix:\\n {confusion_matrix_test_dt}\")\n"
   ]
  },
  {
   "cell_type": "code",
   "execution_count": null,
   "metadata": {},
   "outputs": [
    {
     "name": "stdout",
     "output_type": "stream",
     "text": [
      "Train set: (120, 4) (120, 1)\n",
      "Test set: (30, 4) (30, 1)\n",
      "Random Forest Accuracy Score - Train set: 1.0\n",
      "Random Forest Accuracy Score - Test set: 0.9666666666666667\n",
      "Random Forest Precision Score - Train set: 1.0\n",
      "Random Forest Precision Score - Test set: 0.9700000000000001\n",
      "Random Forest Recall Score - Train set: 1.0\n",
      "Random Forest Recall Score - Test set: 0.9666666666666667\n",
      "Random Forest F1 Score - Train set: 1.0\n",
      "Random Forest F1 Score - Test set: 0.9656920077972709\n",
      "Random Forest Train Confusion Matrix: \n",
      " [[34  0  0]\n",
      " [ 0 45  0]\n",
      " [ 0  0 41]]\n",
      "Random Forest Test Confusion Matrix:\n",
      " [[16  0  0]\n",
      " [ 0  4  1]\n",
      " [ 0  0  9]]\n"
     ]
    }
   ],
   "source": [
    "#-------------Classification----------------#\n",
    "#Instantiate a Logistic Regression model\n",
    "from sklearn.linear_model import LogisticRegression\n",
    "from sklearn.metrics import confusion_matrix\n",
    "from sklearn.ensemble import RandomForestClassifier\n",
    "from sklearn.metrics import accuracy_score, precision_score, recall_score, f1_score, confusion_matrix\n",
    "import pandas as pd\n",
    "import numpy as np\n",
    "#Load the dataset\n",
    "from sklearn.datasets import load_iris\n",
    "data = load_iris()\n",
    "column_names = data.feature_names\n",
    "\n",
    "# Set Input and Output VARIABLES\n",
    "df = pd.DataFrame(data['data'],columns=column_names)\n",
    "data['target_names']\n",
    "target = pd.DataFrame(data.target, columns=['class'])\n",
    "\n",
    "#Train and Test Split\n",
    "from sklearn.model_selection import train_test_split\n",
    "X_train, X_test, y_train, y_test = train_test_split( df, target, test_size=0.2, random_state=4)\n",
    "print ('Train set:', X_train.shape,  y_train.shape)\n",
    "print ('Test set:', X_test.shape,  y_test.shape)\n",
    "\n",
    "\n",
    "# Instantiate a RandomForestClassifier model\n",
    "rf = RandomForestClassifier(n_estimators=100, random_state=4)\n",
    "rf.fit(X_train, y_train.values.ravel())\n",
    "\n",
    "# Predict the target variable for both the training and the testing set\n",
    "y_train_pred_rf = rf.predict(X_train)\n",
    "y_test_pred_rf = rf.predict(X_test)\n",
    "\n",
    "# -----Evaluation-----#\n",
    "# Calculate and print evaluation metrics\n",
    "accuracy_train_rf = accuracy_score(y_train, y_train_pred_rf)\n",
    "accuracy_test_rf = accuracy_score(y_test, y_test_pred_rf)\n",
    "print(f\"Random Forest Accuracy Score - Train set: {accuracy_train_rf}\")\n",
    "print(f\"Random Forest Accuracy Score - Test set: {accuracy_test_rf}\")\n",
    "\n",
    "precision_train_rf = precision_score(y_train, y_train_pred_rf, average='weighted')\n",
    "precision_test_rf = precision_score(y_test, y_test_pred_rf, average='weighted')\n",
    "print(f\"Random Forest Precision Score - Train set: {precision_train_rf}\")\n",
    "print(f\"Random Forest Precision Score - Test set: {precision_test_rf}\")\n",
    "\n",
    "recall_train_rf = recall_score(y_train, y_train_pred_rf, average='weighted')\n",
    "recall_test_rf = recall_score(y_test, y_test_pred_rf, average='weighted')\n",
    "print(f\"Random Forest Recall Score - Train set: {recall_train_rf}\")\n",
    "print(f\"Random Forest Recall Score - Test set: {recall_test_rf}\")\n",
    "\n",
    "f1_train_rf = f1_score(y_train, y_train_pred_rf, average='weighted')\n",
    "f1_test_rf = f1_score(y_test, y_test_pred_rf, average='weighted')\n",
    "print(f\"Random Forest F1 Score - Train set: {f1_train_rf}\")\n",
    "print(f\"Random Forest F1 Score - Test set: {f1_test_rf}\")\n",
    "\n",
    "confusion_matrix_train_rf = confusion_matrix(y_train, y_train_pred_rf)\n",
    "confusion_matrix_test_rf = confusion_matrix(y_test, y_test_pred_rf)\n",
    "print(f\"Random Forest Train Confusion Matrix: \\n {confusion_matrix_train_rf}\")\n",
    "print(f\"Random Forest Test Confusion Matrix:\\n {confusion_matrix_test_rf}\")\n"
   ]
  }
 ],
 "metadata": {
  "kernelspec": {
   "display_name": "base",
   "language": "python",
   "name": "python3"
  },
  "language_info": {
   "codemirror_mode": {
    "name": "ipython",
    "version": 3
   },
   "file_extension": ".py",
   "mimetype": "text/x-python",
   "name": "python",
   "nbconvert_exporter": "python",
   "pygments_lexer": "ipython3",
   "version": "3.11.5"
  }
 },
 "nbformat": 4,
 "nbformat_minor": 2
}
